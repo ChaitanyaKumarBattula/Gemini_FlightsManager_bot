{
 "cells": [
  {
   "cell_type": "code",
   "execution_count": 5,
   "metadata": {},
   "outputs": [],
   "source": [
    "import vertexai\n",
    "import streamlit as st\n",
    "from vertexai.preview import generative_models\n",
    "from vertexai.preview.generative_models import GenerativeModel, Tool, Part, Content, ChatSession"
   ]
  },
  {
   "cell_type": "code",
   "execution_count": 6,
   "metadata": {},
   "outputs": [],
   "source": [
    "project = \"vibrant-mind-426501-d1\"\n",
    "vertexai.init(project = project)"
   ]
  },
  {
   "cell_type": "code",
   "execution_count": 7,
   "metadata": {},
   "outputs": [],
   "source": [
    "# Declare Tool\n",
    "get_search_flights = generative_models.FunctionDeclaration(\n",
    "    name=\"get_search_flights\",\n",
    "    description=\"Tool for searching a flight with origin, destination, and departure date\",\n",
    "    parameters={\n",
    "        \"type\": \"object\",\n",
    "        \"properties\": {\n",
    "            \"origin\": {\n",
    "                \"type\": \"string\",\n",
    "                \"description\": \"The airport of departure for the flight given in airport code such as LAX, SFO, BOS, etc.\"\n",
    "            },\n",
    "            \"destination\": {\n",
    "                \"type\": \"string\",\n",
    "                \"description\": \"The airport of destination for the flight given in airport code such as LAX, SFO, BOS, etc.\"\n",
    "            },\n",
    "            \"departure_date\": {\n",
    "                \"type\": \"string\",\n",
    "                \"format\": \"date\",\n",
    "                \"description\": \"The date of departure for the flight in YYYY-MM-DD format\"\n",
    "            },\n",
    "        },\n",
    "        \"required\": [\n",
    "            \"origin\",\n",
    "            \"destination\",\n",
    "            \"departure_date\"\n",
    "        ]\n",
    "    },\n",
    ")\n",
    "\n",
    "# Define booking tool\n",
    "get_book_flights = generative_models.FunctionDeclaration(\n",
    "    name = \"get_book_flights\",\n",
    "    description= \"Tool for booking a flight with flight_number, seat_type and num_seats\",\n",
    "    parameters = {\n",
    "        \"type\": \"object\",\n",
    "        \"properties\": {\n",
    "            \"flight_number\": {\n",
    "                \"type\": \"string\",\n",
    "                \"description\": \"The flight number of the flight which the user wishes to book.\"\n",
    "            },\n",
    "            \"seat_type\":{\n",
    "                \"type\": \"string\",\n",
    "                \"description\": \"The class of the seat to be booked (economy, business or first class).\"\n",
    "            },\n",
    "            \"num_seats\": {\n",
    "                \"type\": \"integer\",\n",
    "                \"description\": \"The number of seats to be booked\"\n",
    "            },\n",
    "        },\n",
    "        \"required\":[\n",
    "            \"flight_number\",\n",
    "            \"seat_type\",\n",
    "            \"num_seats\"\n",
    "        ]\n",
    "    },\n",
    ")\n",
    "\n",
    "\n",
    "# Instantiate tool and model with tools\n",
    "search_tool = generative_models.Tool(\n",
    "    function_declarations=[get_search_flights,get_book_flights],\n",
    ")"
   ]
  },
  {
   "cell_type": "code",
   "execution_count": 8,
   "metadata": {},
   "outputs": [],
   "source": [
    "config = generative_models.GenerationConfig(temperature=0.4)\n",
    "# Load model with config\n",
    "model = GenerativeModel(\n",
    "    \"gemini-pro\",\n",
    "    tools = [search_tool],\n",
    "    generation_config = config\n",
    ")"
   ]
  }
 ],
 "metadata": {
  "kernelspec": {
   "display_name": "env",
   "language": "python",
   "name": "python3"
  },
  "language_info": {
   "codemirror_mode": {
    "name": "ipython",
    "version": 3
   },
   "file_extension": ".py",
   "mimetype": "text/x-python",
   "name": "python",
   "nbconvert_exporter": "python",
   "pygments_lexer": "ipython3",
   "version": "3.11.7"
  }
 },
 "nbformat": 4,
 "nbformat_minor": 2
}
